{
 "cells": [
  {
   "cell_type": "markdown",
   "id": "nominated-employee",
   "metadata": {},
   "source": [
    "<h1>Plain Fin Heat Transfer Coefficient and Pressure Drop</h1>\n",
    "\n",
    "Let us take look at the calculations based on Wang et al. (2000) method to calculate heat transfer coefficient for a plain fin used with round tube plain fin heat exchangers.\n",
    "\n",
    "The inputs required for this calculation are given below:\n",
    "$\\\\$\n",
    "$D_o$ = Tube Outside Diameter $[m]$\n",
    "\n",
    "$F_p$ = Fin Pitch $[m]$\n",
    "\n",
    "$P_t$ = Transverse tube pitch or vertical tube spacing $[m]$\n",
    "\n",
    "$P_l$ = Longitudinal tube pitch or horizontal tube spacing $[m]$\n",
    "\n",
    "$\\delta_f$ = Fin Thermal Conductivity $[Wm^{-1}K^{-1}]$\n",
    "\n",
    "$\\delta_w$ = Tube Thermal Conductivity $[Wm^{-1}K^{-1}]$\n",
    "\n",
    "$X_f$ = Half wavelength of the fin wave $[m]$\n",
    "\n",
    "$P_d$ = Pattern Depth or twice amplitude of fin wave $[m]$"
   ]
  },
  {
   "cell_type": "code",
   "execution_count": 1,
   "id": "neural-blackjack",
   "metadata": {},
   "outputs": [],
   "source": [
    "import numpy as np\n",
    "import HT_Library as ht"
   ]
  },
  {
   "cell_type": "code",
   "execution_count": 2,
   "id": "boxed-knowing",
   "metadata": {},
   "outputs": [],
   "source": [
    "Do = 9.525e-3\n",
    "Fp = 1.22e-3\n",
    "Pl = 19.05e-3\n",
    "Pt = 25.4e-3\n",
    "deltaf = 0.152e-3\n",
    "Pd = 1.23e-3\n",
    "Xf = 7e-3"
   ]
  },
  {
   "cell_type": "markdown",
   "id": "political-revelation",
   "metadata": {},
   "source": [
    "Based on these inputs we can calculate the following geometry parameters.\n",
    "$\\\\$\n",
    "$D_c$ = Fin Collar Outside Diameter $[m]$"
   ]
  },
  {
   "cell_type": "code",
   "execution_count": 3,
   "id": "brutal-deputy",
   "metadata": {},
   "outputs": [
    {
     "name": "stdout",
     "output_type": "stream",
     "text": [
      "Dc = 0.009829000000000001\n"
     ]
    }
   ],
   "source": [
    "Dc = 2*deltaf + Do\n",
    "print('Dc =',Dc)"
   ]
  },
  {
   "cell_type": "markdown",
   "id": "expressed-macedonia",
   "metadata": {},
   "source": [
    "<h2>Minimum free flow area calculation</h2>\n",
    "Reynolds area is based on maximum flow velocity. For this purpose, it is necessary to calculate minimum free flow area.\n",
    "$\\\\$\n",
    "$L_t$ = Length between headers $[m]$\n",
    "$\\\\$\n",
    "$A_o$ = Minimum free flow area $[m^2]$\n",
    "$\\\\$\n",
    "$N_{row}$ = Number of tube rows $[-]$\n",
    "$\\\\$\n",
    "$N_{tube/row}$ = Number of tubes per row $[-]$\n",
    "$\\\\$\n",
    "$FPM$ = Number of fins per unit length $[m^{-1}]$\n",
    "$\\\\$\n",
    "$A_{oi}$ = Minimum free flow area for inline tube configuration $[m^{2}]$\n",
    "$\\\\$\n",
    "$A_{fr}$ = Frontal area $[m^{2}]$"
   ]
  },
  {
   "cell_type": "code",
   "execution_count": 4,
   "id": "killing-diesel",
   "metadata": {},
   "outputs": [
    {
     "name": "stdout",
     "output_type": "stream",
     "text": [
      "L1 = 0.5\n",
      "L2 = 0.0762\n",
      "L3 = 0.30479999999999996\n",
      "FPM = 819.672131147541\n",
      "Fs = 0.001068\n",
      "Aoi = 0.08338278688524589\n",
      "Afr = 0.15239999999999998\n"
     ]
    }
   ],
   "source": [
    "Lt = 0.5\n",
    "L1 = Lt\n",
    "print('L1 =',L1)\n",
    "NtubesPerRow = 12\n",
    "Nrow = 4\n",
    "L2 = Nrow*Pl\n",
    "print('L2 =',L2)\n",
    "L3 = NtubesPerRow*Pt\n",
    "print('L3 =',L3)\n",
    "#FPM = 1/(Fp+deltaf)\n",
    "FPM = 1/Fp\n",
    "print('FPM =',FPM)\n",
    "Fs = Fp-deltaf\n",
    "print('Fs =',Fs)\n",
    "Aoi = NtubesPerRow*((Pt-Do)*L1-(Pt-Do)*deltaf*FPM*L1)\n",
    "print('Aoi =',Aoi)\n",
    "Afr = L1*L3\n",
    "print('Afr =',Afr)"
   ]
  },
  {
   "cell_type": "code",
   "execution_count": 5,
   "id": "annoying-airfare",
   "metadata": {},
   "outputs": [
    {
     "name": "stdout",
     "output_type": "stream",
     "text": [
      "a = 0.0069485655737704915\n",
      "b = 0.011392381746737314\n",
      "c = 0.013897131147540983\n",
      "Aos = 0.0833827868852459\n"
     ]
    }
   ],
   "source": [
    "a = 0.5*((Pt-Do)-(Pt-Do)*deltaf*FPM)\n",
    "print('a =',a)\n",
    "b = np.sqrt((Pt/2)**2+Pl**2)-Do-(Pt-Do)*deltaf*FPM\n",
    "print('b =',b)\n",
    "c = 2*min(a,b)\n",
    "print('c =',c)\n",
    "\n",
    "Aos = L1*((NtubesPerRow-1)*c+(Pt-Do)-(Pt-Do)*deltaf*FPM)\n",
    "print('Aos =',Aos)"
   ]
  },
  {
   "cell_type": "code",
   "execution_count": 6,
   "id": "static-lawsuit",
   "metadata": {},
   "outputs": [
    {
     "name": "stdout",
     "output_type": "stream",
     "text": [
      "sigma = 0.5471311475409837\n"
     ]
    }
   ],
   "source": [
    "sigma = (Aos)/(L3*L1)\n",
    "print('sigma =',sigma)"
   ]
  },
  {
   "cell_type": "code",
   "execution_count": 7,
   "id": "referenced-voluntary",
   "metadata": {},
   "outputs": [
    {
     "name": "stdout",
     "output_type": "stream",
     "text": [
      "u_max = 7.310861423220973\n",
      "Re_Dc = 4173.274733295351\n"
     ]
    }
   ],
   "source": [
    "u = 4\n",
    "u_max = u/sigma\n",
    "print('u_max =',u_max)\n",
    "rho = 1.111\n",
    "mu = 1.913e-5\n",
    "\n",
    "Re_Dc = rho*u_max*Dc/mu\n",
    "print('Re_Dc =',Re_Dc)"
   ]
  },
  {
   "cell_type": "code",
   "execution_count": 8,
   "id": "focused-making",
   "metadata": {},
   "outputs": [
    {
     "name": "stdout",
     "output_type": "stream",
     "text": [
      "theta_deg = 9.965950139437554\n",
      "alpha = 1.01532039780755\n"
     ]
    }
   ],
   "source": [
    "theta_rad = np.arccos(Xf/(np.sqrt(Xf**2+Pd**2)))\n",
    "theta_deg = theta_rad*180/np.pi\n",
    "print('theta_deg =',theta_deg)\n",
    "\n",
    "alpha = 1/np.cos(theta_rad)\n",
    "print('alpha =',alpha)"
   ]
  },
  {
   "cell_type": "code",
   "execution_count": 9,
   "id": "agreed-module",
   "metadata": {},
   "outputs": [
    {
     "name": "stdout",
     "output_type": "stream",
     "text": [
      "Ap = 0.6683023707470602\n",
      "As = 16.564222775882655\n",
      "Dh = 0.0014748316469216675\n"
     ]
    }
   ],
   "source": [
    "Ap = np.pi*Do*(L1-deltaf*FPM*L1)*Nrow*NtubesPerRow+2*(L2*L3-np.pi*Do*Do/4*Nrow*NtubesPerRow)\n",
    "print('Ap =',Ap)\n",
    "\n",
    "As = 2*(L2*L3*alpha-np.pi/4*Do**2*Nrow*NtubesPerRow)*FPM*L1+2*L3*alpha*deltaf*FPM*L1\n",
    "print('As =',As)\n",
    "\n",
    "Dh = 4*Aos*L2/(Ap+As)\n",
    "print('Dh =',Dh)"
   ]
  },
  {
   "cell_type": "code",
   "execution_count": 10,
   "id": "above-study",
   "metadata": {},
   "outputs": [],
   "source": [
    "class WavyHerringboneFinHX:\n",
    "    def __init__(self,tubeArrangement,NtubesPerRow,Nrow,Lt,Do,Fp,Pl,Pt,deltaf,Pd,Xf):\n",
    "        self.NtubesPerRow = NtubesPerRow\n",
    "        self.Nrow = Nrow\n",
    "        self.Do = Do\n",
    "        self.Fp = Fp\n",
    "        self.Pl = Pl\n",
    "        self.Pt = Pt\n",
    "        self.deltaf = deltaf        \n",
    "        self.Lt = Lt\n",
    "        self.Pd = Pd\n",
    "        self.Xf = Xf\n",
    "        \n",
    "        self.Dc = 2*deltaf + Do\n",
    "        self.L1 = Lt\n",
    "        self.L2 = Nrow*Pl\n",
    "        self.L3 = NtubesPerRow*Pt\n",
    "        self.FPM = 1/(Fp)\n",
    "        self.Fs = Fp-deltaf\n",
    "        self.a = 0.5*((Pt-Do)-(Pt-Do)*deltaf*self.FPM)\n",
    "        self.b = np.sqrt((Pt/2)**2+Pl**2)-Do-(Pt-Do)*deltaf*self.FPM\n",
    "        self.c = 2*min(self.a,self.b)\n",
    "        self.theta_rad = np.arccos(self.Xf/(np.sqrt(self.Xf**2+self.Pd**2)))\n",
    "        self.alpha = 1/np.cos(self.theta_rad)\n",
    "        \n",
    "        if(tubeArrangement.lower()=='inline'):\n",
    "            self.Ao = NtubesPerRow*((Pt-Do)*self.L1-(Pt-Do)*deltaf*self.FPM*self.L1)\n",
    "        else:\n",
    "            self.Ao = self.L1*((NtubesPerRow-1)*self.c+(Pt-Do)-(Pt-Do)*deltaf*self.FPM)\n",
    "            \n",
    "        self.Ap = (np.pi*Do*(self.L1-deltaf*self.FPM*self.L1)*Nrow\n",
    "                   *NtubesPerRow+2*(self.L2*self.L3-np.pi*Do*Do/4*Nrow*NtubesPerRow))\n",
    "        self.As = (2*(self.L2*self.L3*self.alpha-np.pi/4*Do**2*Nrow*NtubesPerRow)\n",
    "                   *self.FPM*self.L1+2*self.L3*self.alpha*deltaf*self.FPM*self.L1)\n",
    "        self.Afr = self.L1*self.L3\n",
    "        self.sigma = self.Ao/self.Afr\n",
    "        self.At = (self.Ap+self.As)\n",
    "        self.Dh = 4*self.Ao*self.L2/self.At"
   ]
  },
  {
   "cell_type": "code",
   "execution_count": 11,
   "id": "spanish-candidate",
   "metadata": {},
   "outputs": [],
   "source": [
    "x = WavyHerringboneFinHX('staggered',NtubesPerRow,Nrow,Lt,Do,Fp,Pl,Pt,deltaf,Pd,Xf)"
   ]
  },
  {
   "cell_type": "code",
   "execution_count": 12,
   "id": "eligible-integral",
   "metadata": {},
   "outputs": [
    {
     "name": "stdout",
     "output_type": "stream",
     "text": [
      "Ap = 0.6683023707470602\n",
      "As = 16.564222775882655\n",
      "sigma = 0.5471311475409837\n",
      "Dh = 0.0014748316469216675\n",
      "Fp = 0.00122\n",
      "Fs = 0.001068\n"
     ]
    }
   ],
   "source": [
    "print('Ap =',x.Ap)\n",
    "print('As =',x.As)\n",
    "print('sigma =',x.sigma)\n",
    "print('Dh =',x.Dh)\n",
    "print('Fp =',x.Fp)\n",
    "print('Fs =',x.Fs)"
   ]
  },
  {
   "cell_type": "markdown",
   "id": "coordinate-billy",
   "metadata": {},
   "source": [
    "<h2>HTC Calculations</h2>"
   ]
  },
  {
   "cell_type": "code",
   "execution_count": 13,
   "id": "nonprofit-collar",
   "metadata": {},
   "outputs": [
    {
     "name": "stdout",
     "output_type": "stream",
     "text": [
      "J1 = -0.5290585204550293\n",
      "J2 = -1.5181142857142862\n",
      "J3 = 0.4673999999999999\n",
      "j = 0.006460227229246512\n"
     ]
    }
   ],
   "source": [
    "J1 = (0.0045-0.491\n",
    "      *(np.power(Re_Dc,-0.0316-0.0171*np.log(x.Nrow*np.tan(x.theta_rad))))\n",
    "      *(np.power(x.Pl/x.Pt,-0.109*np.log(x.Nrow*np.tan(x.theta_rad))))\n",
    "      *(np.power(x.Dc/x.Dh,0.542+0.0471*x.Nrow))\n",
    "      *(np.power(x.Fs/x.Dc,0.984))\n",
    "      *np.power(x.Fs/x.Pt,-0.349))\n",
    "print('J1 =',J1)\n",
    "\n",
    "J2 = -2.72+6.84*np.tan(x.theta_rad)\n",
    "print('J2 =',J2)\n",
    "\n",
    "J3 = 2.66*np.tan(x.theta_rad)\n",
    "print('J3 =',J3)\n",
    "\n",
    "\n",
    "j = (0.882*np.power(Re_Dc,J1)*np.power(x.Dc/x.Dh,J2)*np.power(x.Fs/x.Pt,J3)\n",
    "     *np.power(x.Fs/x.Dc,-1.58)*np.power(np.tan(x.theta_rad),-0.2))\n",
    "print('j =',j)"
   ]
  },
  {
   "cell_type": "code",
   "execution_count": 14,
   "id": "bibliographic-technician",
   "metadata": {},
   "outputs": [
    {
     "name": "stdout",
     "output_type": "stream",
     "text": [
      "c1 = 0.012149427331634143\n",
      "c2 = 0.056160080394714734\n",
      "c3 = 0.2273709227781303\n",
      "c4 = 33.34434341704458\n",
      "c5 = 1.4159195744224213\n"
     ]
    }
   ],
   "source": [
    "c1 = np.power(Re_Dc,J1)\n",
    "print('c1 =',c1)\n",
    "c2 = np.power(x.Dc/x.Dh,J2)\n",
    "print('c2 =',c2)\n",
    "c3 = np.power(x.Fs/x.Pt,J3)\n",
    "print('c3 =',c3)\n",
    "c4 = np.power(x.Fs/x.Dc,-1.58)\n",
    "print('c4 =',c4)\n",
    "c5 = np.power(np.tan(x.theta_rad),-0.2)\n",
    "print('c5 =',c5)"
   ]
  },
  {
   "cell_type": "code",
   "execution_count": 15,
   "id": "impressive-highlight",
   "metadata": {},
   "outputs": [
    {
     "name": "stdout",
     "output_type": "stream",
     "text": [
      "j1 = -0.46960679182139253\n",
      "j2 = -1.0713105095162012\n",
      "j = 0.00704852178730763\n"
     ]
    }
   ],
   "source": [
    "j1 = (-0.0545-0.0538*np.tan(x.theta_rad)-0.302*np.power(x.Nrow,-0.24)*np.power(x.Fs/x.Pl,-1.3)\n",
    "      *np.power(x.Pl/x.Pt,0.379)*np.power(x.Pl/x.Dh,-1.35)*np.power(np.tan(x.theta_rad),-0.256))\n",
    "print('j1 =',j1)\n",
    "\n",
    "j2 = (-1.29*np.power(x.Pl/x.Pt,1.77-9.43*np.tan(x.theta_rad))\n",
    "      *np.power(x.Dc/x.Dh,0.229-1.43*np.tan(x.theta_rad))\n",
    "      *np.power(x.Nrow,-0.166-1.08*np.tan(x.theta_rad))\n",
    "      *np.power(x.Fs/x.Pt,-0.174*np.log(0.5*Nrow)))\n",
    "print('j2 =',j2)\n",
    "\n",
    "j = (0.0646*np.power(Re_Dc,j1)*np.power(x.Dc/x.Dh,j2)*np.power(x.Fs/x.Pt,-1.03)\n",
    "     *np.power(x.Pl/x.Dc,0.432)*np.power(np.tan(x.theta_rad),-0.692)*np.power(Nrow,-0.737))\n",
    "print('j =',j)"
   ]
  },
  {
   "cell_type": "code",
   "execution_count": 16,
   "id": "arabic-fishing",
   "metadata": {},
   "outputs": [
    {
     "name": "stdout",
     "output_type": "stream",
     "text": [
      "ho = 73.83290060732332\n"
     ]
    }
   ],
   "source": [
    "cp = 1049\n",
    "Pr = 0.7336\n",
    "\n",
    "ho = j*rho*u_max*cp/(np.power(Pr,(2/3)))\n",
    "print('ho =',ho)"
   ]
  },
  {
   "cell_type": "code",
   "execution_count": 17,
   "id": "accurate-messenger",
   "metadata": {},
   "outputs": [
    {
     "name": "stdout",
     "output_type": "stream",
     "text": [
      "rho = 1.109356342851275\n",
      "mu = 1.8946030732764537e-05\n",
      "cp = 1028.1616087016457\n",
      "Pr = 0.7131921984075685\n"
     ]
    }
   ],
   "source": [
    "Temp = 313.75\n",
    "Rh = 0.5\n",
    "P_amb = 101325\n",
    "y = ht.AirThermoPhysicalProps(P_amb,Temp,Rh)\n",
    "print('rho =',y.rho)\n",
    "print('mu =',y.mu)\n",
    "print('cp =',y.cp)\n",
    "print('Pr =',y.Pr)"
   ]
  },
  {
   "cell_type": "markdown",
   "id": "broken-phrase",
   "metadata": {},
   "source": [
    "<h2>Pressure Drop Calculations</h2>"
   ]
  },
  {
   "cell_type": "code",
   "execution_count": 18,
   "id": "eligible-development",
   "metadata": {},
   "outputs": [
    {
     "name": "stdout",
     "output_type": "stream",
     "text": [
      "F1 = -0.6721927917873555\n",
      "F2 = -0.5359285714285713\n",
      "F3 = -0.768\n",
      "F4 = -0.11351142857142855\n",
      "f = 0.030113319917351344\n"
     ]
    }
   ],
   "source": [
    "F1 = (-0.574-0.137*np.power(np.log(Re_Dc)-5.26,0.245)\n",
    "      *np.power(x.Pt/x.Dc,-0.765)\n",
    "      *np.power(x.Dc/x.Dh,-0.243)\n",
    "      *np.power(x.Fs/x.Dh,-0.474)\n",
    "      *np.power(np.tan(x.theta_rad),-0.217)\n",
    "      *np.power(Nrow,0.035))\n",
    "print('F1 =',F1)\n",
    "\n",
    "F2 = -3.05*np.tan(x.theta_rad)\n",
    "print('F2 =',F2)\n",
    "\n",
    "F3 = -0.192*Nrow\n",
    "print('F3 =',F3)\n",
    "\n",
    "F4 = -0.646*np.tan(x.theta_rad)\n",
    "print('F4 =',F4)\n",
    "\n",
    "f = 4.37*np.power(Re_Dc,F1)*np.power(x.Fs/x.Dh,F2)*np.power(x.Pl/x.Pt,F3)*np.power(x.Dc/x.Dh,0.2054)*np.power(Nrow,F4)\n",
    "print('f =',f)"
   ]
  },
  {
   "cell_type": "code",
   "execution_count": 19,
   "id": "manual-antarctica",
   "metadata": {
    "scrolled": true
   },
   "outputs": [
    {
     "name": "stdout",
     "output_type": "stream",
     "text": [
      "f1 = -0.3097187975996135\n",
      "f2 = -0.470496616888362\n",
      "f3 = 0.3975041674302362\n",
      "f4 = 0.33184285714285705\n",
      "f = 0.03437509064240163\n"
     ]
    }
   ],
   "source": [
    "f1 = (-0.141*np.power(x.Fs/x.Pl,0.0512)*np.power(np.tan(x.theta_rad),-0.472)\n",
    "      *np.power(x.Pl/x.Pt,0.35)*np.power(x.Pt/x.Dh,0.449*np.tan(x.theta_rad))*np.power(Nrow,-0.049+0.237*np.tan(theta_rad)))\n",
    "print('f1 =',f1)\n",
    "\n",
    "f2 = -0.562*np.power(np.log(Re_Dc),-0.0923)*np.power(Nrow,0.013)\n",
    "print('f2 =',f2)\n",
    "\n",
    "f3 = 0.302*np.power(Re_Dc,0.03)*np.power(x.Pt/x.Dc,0.026)\n",
    "print('f3 =',f3)\n",
    "\n",
    "f4 = -0.306 + 3.63*np.tan(theta_rad)\n",
    "print('f4 =',f4)\n",
    "\n",
    "f = (0.228*np.power(Re_Dc,f1)*np.power(np.tan(theta_rad),f2)*np.power(x.Fs/x.Pl,f3)*np.power(x.Pl/x.Dc,f4)\n",
    "     *np.power(x.Dc/x.Dh,0.383)*np.power(x.Pl/x.Pt,-0.247))\n",
    "print('f =',f)"
   ]
  },
  {
   "cell_type": "code",
   "execution_count": 20,
   "id": "centered-singing",
   "metadata": {},
   "outputs": [
    {
     "name": "stdout",
     "output_type": "stream",
     "text": [
      "G = 8.110350491556886\n"
     ]
    }
   ],
   "source": [
    "G = y.rho*u_max\n",
    "print('G =',G)"
   ]
  },
  {
   "cell_type": "code",
   "execution_count": 21,
   "id": "medium-guidance",
   "metadata": {},
   "outputs": [
    {
     "name": "stdout",
     "output_type": "stream",
     "text": [
      "dP = 210.61754472177074\n"
     ]
    }
   ],
   "source": [
    "dP = f*G**2/(2*y.rho)*(x.As+x.Ap)/x.Ao\n",
    "print('dP =',dP)"
   ]
  },
  {
   "cell_type": "code",
   "execution_count": 28,
   "id": "hollow-import",
   "metadata": {},
   "outputs": [],
   "source": [
    "def CCWangWavyHerringboneFinCalc(HX,AirProps,InletVelocity):\n",
    "    u_max = InletVelocity/HX.sigma\n",
    "    Re_Dc = AirProps.rho*u_max*HX.Dc/AirProps.mu \n",
    "\n",
    "    if(Re_Dc<1000):\n",
    "        J1 = (0.0045-0.491\n",
    "              *(np.power(Re_Dc,-0.0316-0.0171*np.log(HX.Nrow*np.tan(HX.theta_rad))))\n",
    "              *(np.power(HX.Pl/HX.Pt,-0.109*np.log(HX.Nrow*np.tan(HX.theta_rad))))\n",
    "              *(np.power(HX.Dc/HX.Dh,0.542+0.0471*HX.Nrow))\n",
    "              *(np.power(HX.Fs/HX.Dc,0.984))\n",
    "              *np.power(HX.Fs/HX.Pt,-0.349))\n",
    "        J2 = -2.72+6.84*np.tan(HX.theta_rad)\n",
    "        J3 = 2.66*np.tan(HX.theta_rad)\n",
    "        j = (0.882*np.power(Re_Dc,J1)*np.power(HX.Dc/HX.Dh,J2)*np.power(HX.Fs/HX.Pt,J3)\n",
    "             *np.power(HX.Fs/HX.Dc,-1.58)*np.power(np.tan(HX.theta_rad),-0.2))\n",
    "        F1 = (-0.574-0.137*np.power(np.log(Re_Dc)-5.26,0.245)\n",
    "              *np.power(HX.Pt/HX.Dc,-0.765)\n",
    "              *np.power(HX.Dc/HX.Dh,-0.243)\n",
    "              *np.power(HX.Fs/HX.Dh,-0.474)\n",
    "              *np.power(np.tan(HX.theta_rad),-0.217)\n",
    "              *np.power(HX.Nrow,0.035))\n",
    "        F2 = -3.05*np.tan(HX.theta_rad)\n",
    "        F3 = -0.192*HX.Nrow\n",
    "        F4 = -0.646*np.tan(HX.theta_rad)\n",
    "        f = (4.37*np.power(Re_Dc,F1)*np.power(HX.Fs/HX.Dh,F2)\n",
    "             *np.power(HX.Pl/HX.Pt,F3)*np.power(HX.Dc/HX.Dh,0.2054)*np.power(HX.Nrow,F4))        \n",
    "    else:\n",
    "        j1 = (-0.0545-0.0538*np.tan(HX.theta_rad)-0.302*np.power(HX.Nrow,-0.24)*np.power(HX.Fs/HX.Pl,-1.3)\n",
    "              *np.power(HX.Pl/HX.Pt,0.379)*np.power(HX.Pl/HX.Dh,-1.35)*np.power(np.tan(HX.theta_rad),-0.256))\n",
    "        j2 = (-1.29*np.power(HX.Pl/HX.Pt,1.77-9.43*np.tan(HX.theta_rad))\n",
    "              *np.power(HX.Dc/HX.Dh,0.229-1.43*np.tan(HX.theta_rad))\n",
    "              *np.power(HX.Nrow,-0.166-1.08*np.tan(HX.theta_rad))\n",
    "              *np.power(HX.Fs/HX.Pt,-0.174*np.log(0.5*HX.Nrow)))\n",
    "        j = (0.0646*np.power(Re_Dc,j1)*np.power(HX.Dc/HX.Dh,j2)*np.power(HX.Fs/HX.Pt,-1.03)\n",
    "             *np.power(HX.Pl/HX.Dc,0.432)*np.power(np.tan(HX.theta_rad),-0.692)*np.power(HX.Nrow,-0.737)) \n",
    "        f1 = (-0.141*np.power(HX.Fs/HX.Pl,0.0512)*np.power(np.tan(HX.theta_rad),-0.472)\n",
    "              *np.power(HX.Pl/HX.Pt,0.35)*np.power(HX.Pt/HX.Dh,0.449*np.tan(HX.theta_rad))\n",
    "              *np.power(HX.Nrow,-0.049+0.237*np.tan(HX.theta_rad)))\n",
    "        f2 = -0.562*np.power(np.log(Re_Dc),-0.0923)*np.power(HX.Nrow,0.013)\n",
    "        f3 = 0.302*np.power(Re_Dc,0.03)*np.power(HX.Pt/HX.Dc,0.026)\n",
    "        f4 = -0.306 + 3.63*np.tan(HX.theta_rad)\n",
    "        f = (0.228*np.power(Re_Dc,f1)*np.power(np.tan(HX.theta_rad),f2)*np.power(HX.Fs/HX.Pl,f3)*np.power(HX.Pl/HX.Dc,f4)\n",
    "             *np.power(HX.Dc/HX.Dh,0.383)*np.power(HX.Pl/HX.Pt,-0.247))    \n",
    "        \n",
    "    G = AirProps.rho*u_max\n",
    "    ho = j*G*AirProps.cp/(np.power(AirProps.Pr,(2/3)))\n",
    "    dP = f*G**2/(2*AirProps.rho)*(HX.As+HX.Ap)/HX.Ao\n",
    "    return ho,dP"
   ]
  },
  {
   "cell_type": "code",
   "execution_count": null,
   "id": "urban-success",
   "metadata": {},
   "outputs": [],
   "source": []
  }
 ],
 "metadata": {
  "kernelspec": {
   "display_name": "Python 3",
   "language": "python",
   "name": "python3"
  },
  "language_info": {
   "codemirror_mode": {
    "name": "ipython",
    "version": 3
   },
   "file_extension": ".py",
   "mimetype": "text/x-python",
   "name": "python",
   "nbconvert_exporter": "python",
   "pygments_lexer": "ipython3",
   "version": "3.7.10"
  }
 },
 "nbformat": 4,
 "nbformat_minor": 5
}
