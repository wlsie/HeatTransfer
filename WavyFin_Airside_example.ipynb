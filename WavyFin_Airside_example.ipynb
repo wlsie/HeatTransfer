{
 "cells": [
  {
   "cell_type": "markdown",
   "id": "driving-civilian",
   "metadata": {},
   "source": [
    "<h1>Wavy Fin Heat Transfer Coefficient and Pressure Drop</h1>\n",
    "\n",
    "Let us take look at the calculations based on Wang et al. (2002) method to calculate heat transfer coefficient for a plain fin used with round tube plain fin heat exchangers.\n",
    "\n",
    "The inputs required for this calculation are given below:\n",
    "\n",
    "\n",
    "$D_o$ = Tube Outside Diameter $[m]$\n",
    "\n",
    "$F_p$ = Fin Pitch $[m]$\n",
    "\n",
    "$F_s$ = Fin Spacing $[m]$\n",
    "\n",
    "$P_t$ = Transverse tube pitch or vertical tube spacing $[m]$\n",
    "\n",
    "$P_l$ = Longitudinal tube pitch or horizontal tube spacing $[m]$\n",
    "\n",
    "$\\delta_f$ = Fin Thermal Conductivity $[Wm^{-1}K^{-1}]$\n",
    "\n",
    "$\\delta_w$ = Tube Thermal Conductivity $[Wm^{-1}K^{-1}]$\n",
    "\n",
    "$X_f$ = Half wavelength of the fin wave $[m]$\n",
    "\n",
    "$P_d$ = Pattern Depth or twice amplitude of fin wave $[m]$\n",
    "\n",
    "$L_t$ = Finned length of the tube $[m]$\n",
    "\n",
    "$Nrow$ = Number of rows of tubes in airflow direction\n",
    "\n",
    "$NtubesPerRow$ = Number of tubes perpendicular to airflow direction\n",
    "\n",
    "$u$ = Face Velocity $[m s^{-1}]$\n",
    "\n",
    "<h2>References</h2>\n",
    "1. Wang, C.C., Hwang, Y.M. and Lin, Y.T., 2002. Empirical correlations for heat transfer and flow friction characteristics of herringbone wavy fin-and-tube heat exchangers. International Journal of Refrigeration, 25(5), pp.673-680."
   ]
  },
  {
   "cell_type": "code",
   "execution_count": 1,
   "id": "divine-implement",
   "metadata": {},
   "outputs": [],
   "source": [
    "import HT_Library as ht"
   ]
  },
  {
   "cell_type": "code",
   "execution_count": 2,
   "id": "charitable-processor",
   "metadata": {},
   "outputs": [
    {
     "name": "stdout",
     "output_type": "stream",
     "text": [
      "Ap = 0.6683023707470602\n",
      "As = 16.564222775882655\n",
      "sigma = 0.5471311475409837\n",
      "Dh = 0.0014748316469216675\n"
     ]
    }
   ],
   "source": [
    "Do = 9.525e-3\n",
    "Fp = 1.22e-3\n",
    "Pl = 19.05e-3\n",
    "Pt = 25.4e-3\n",
    "deltaf = 0.152e-3\n",
    "Pd = 1.23e-3\n",
    "Xf = 7e-3\n",
    "\n",
    "Lt = 0.5\n",
    "NtubesPerRow = 12\n",
    "Nrow = 4\n",
    "x = ht.WavyHerringboneFinHX('staggered',NtubesPerRow,Nrow,Lt,Do,Fp,Pl,Pt,deltaf,Pd,Xf)\n",
    "print('Ap =',x.Ap)\n",
    "print('As =',x.As)\n",
    "print('sigma =',x.sigma)\n",
    "print('Dh =',x.Dh)"
   ]
  },
  {
   "cell_type": "code",
   "execution_count": 3,
   "id": "cutting-update",
   "metadata": {},
   "outputs": [
    {
     "name": "stdout",
     "output_type": "stream",
     "text": [
      "rho = 1.109356342851275\n",
      "mu = 1.8946030732764537e-05\n",
      "cp = 1028.1616087016457\n",
      "Pr = 0.7131921984075685\n"
     ]
    }
   ],
   "source": [
    "Temp = 313.75\n",
    "Rh = 0.5\n",
    "P_amb = 101325\n",
    "y = ht.AirThermoPhysicalProps(P_amb,Temp,Rh)\n",
    "print('rho =',y.rho)\n",
    "print('mu =',y.mu)\n",
    "print('cp =',y.cp)\n",
    "print('Pr =',y.Pr)"
   ]
  },
  {
   "cell_type": "code",
   "execution_count": 4,
   "id": "recreational-blind",
   "metadata": {},
   "outputs": [
    {
     "name": "stdout",
     "output_type": "stream",
     "text": [
      "HTC = 13.068488034996921\n",
      "dP = 4.6609665306901\n"
     ]
    }
   ],
   "source": [
    "u = 0.2\n",
    "HTC,dP = ht.CCWangWavyHerringboneFinCalc(x,y,u)\n",
    "print('HTC =',HTC)\n",
    "print('dP =',dP)"
   ]
  },
  {
   "cell_type": "code",
   "execution_count": null,
   "id": "differential-imaging",
   "metadata": {},
   "outputs": [],
   "source": []
  }
 ],
 "metadata": {
  "kernelspec": {
   "display_name": "Python 3",
   "language": "python",
   "name": "python3"
  },
  "language_info": {
   "codemirror_mode": {
    "name": "ipython",
    "version": 3
   },
   "file_extension": ".py",
   "mimetype": "text/x-python",
   "name": "python",
   "nbconvert_exporter": "python",
   "pygments_lexer": "ipython3",
   "version": "3.7.10"
  }
 },
 "nbformat": 4,
 "nbformat_minor": 5
}
